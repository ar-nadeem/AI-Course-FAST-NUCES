{
 "cells": [
  {
   "cell_type": "code",
   "execution_count": 7,
   "metadata": {},
   "outputs": [
    {
     "name": "stdout",
     "output_type": "stream",
     "text": [
      "{'Bannna', 'Pineapple', 'Oranges', 'Dragonfruit'}\n"
     ]
    }
   ],
   "source": [
    "# Set operations\n",
    "x = {\"Apple\",\"Bannna\",\"Oranges\",\"Mango\"}\n",
    "y = {\"Dragonfruit\",\"Pineapple\",\"Mango\",\"Apple\"}\n",
    "uncommonOne = x.difference(y)\n",
    "uncommonTwo = y.difference(x)\n",
    "solution = (uncommonOne.union(uncommonTwo))\n",
    "print (solution)"
   ]
  },
  {
   "cell_type": "code",
   "execution_count": 26,
   "metadata": {},
   "outputs": [
    {
     "name": "stdout",
     "output_type": "stream",
     "text": [
      "Cannot divide by zero\n",
      "End of program\n"
     ]
    }
   ],
   "source": [
    "# Expenction Handling for division\n",
    "try:\n",
    "    x = 5\n",
    "    y = 0\n",
    "    print (x/y)\n",
    "except ZeroDivisionError:\n",
    "    print (\"Cannot divide by zero\")\n",
    "except Exception as e:\n",
    "    print (e)\n",
    "finally:\n",
    "    print (\"End of program\")\n",
    "\n"
   ]
  },
  {
   "cell_type": "code",
   "execution_count": 1,
   "metadata": {},
   "outputs": [
    {
     "name": "stdout",
     "output_type": "stream",
     "text": [
      ".Z ot A morf stebahpla lla daer evah eW\n",
      " .Z si sihT\n",
      " .Y si sihT\n",
      " .X si sihT\n",
      " .W si sihT\n",
      " .V si sihT\n",
      " .U si sihT\n",
      " .T si sihT\n",
      " .S si sihT\n",
      " .R si sihT\n",
      " .Q si sihT\n",
      " .P si sihT\n",
      " .O si sihT\n",
      " .N si sihT\n",
      " .M si sihT\n",
      " .L si sihT\n",
      " .K si sihT\n",
      " .J si sihT\n",
      " .I si sihT\n",
      " .H si sihT\n",
      " .G si sihT\n",
      " .F si sihT\n",
      " .E si sihT\n",
      " .D si sihT\n",
      " .C si sihT\n",
      " .B si sihT\n",
      " .A na si sihT\n",
      " .stebahpla fo elif eht si sihT\n"
     ]
    }
   ],
   "source": [
    "# Reading text file and storing in reverse order\n",
    "file = open(\"Alphabets.txt\",\"r\")\n",
    "lines = file.read()\n",
    "file.close()\n",
    "\n",
    "lines = lines[::-1]\n",
    "\n",
    "print (lines)\n",
    "\n",
    "# Storing list in a file\n",
    "file = open(\"Output.txt\",\"w\")\n",
    "file.write(lines)\n",
    "\n",
    "file.close()\n"
   ]
  }
 ],
 "metadata": {
  "kernelspec": {
   "display_name": "Python 3",
   "language": "python",
   "name": "python3"
  },
  "language_info": {
   "codemirror_mode": {
    "name": "ipython",
    "version": 3
   },
   "file_extension": ".py",
   "mimetype": "text/x-python",
   "name": "python",
   "nbconvert_exporter": "python",
   "pygments_lexer": "ipython3",
   "version": "3.11.1"
  },
  "orig_nbformat": 4
 },
 "nbformat": 4,
 "nbformat_minor": 2
}

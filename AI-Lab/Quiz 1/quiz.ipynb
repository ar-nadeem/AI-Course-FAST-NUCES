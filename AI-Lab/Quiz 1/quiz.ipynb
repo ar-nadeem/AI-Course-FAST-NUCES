{
 "cells": [
  {
   "cell_type": "code",
   "execution_count": 28,
   "metadata": {},
   "outputs": [
    {
     "name": "stdout",
     "output_type": "stream",
     "text": [
      "Board of \n",
      "Row =  2 \n",
      "Column =  2 \n",
      "\n",
      "A  \n",
      "B  \n",
      "\n",
      "\n",
      "C  \n",
      "D  \n",
      "\n",
      "\n"
     ]
    }
   ],
   "source": [
    "# The quiz required to search specific pattern and to implement all validation checks in 45 minutes.\n",
    "\n",
    "\n",
    "m = -1\n",
    "n = -1\n",
    "while (m < 1):\n",
    "    m = int(input (\"Enter the value for m : \"))\n",
    "    if (m < 1):\n",
    "        print (\"\\nNOT ALLOWED PLEASE ENTER AGAIN \\n\")\n",
    "while (n < 0 or n > 6):\n",
    "    n = int(input (\"Enter the value for n : \"))\n",
    "    if (n < 0 or n > 6):\n",
    "        print (\"\\nNOT ALLOWED PLEASE ENTER AGAIN \\n\")\n",
    "\n",
    "board=[[0 for j in range(0,m)]for i in range(0,n)]\n",
    "\n",
    "\n",
    "for i in range(0,m):\n",
    "    for j in range(0,n):\n",
    "        inn = (input(\"Enter value : \"))\n",
    "        while (inn.isalpha() == False or len(inn) != 1):\n",
    "            print (\"Error not in aplha try again\\n\")\n",
    "            inn = (input(\"Enter value : \"))\n",
    "        board[i][j]=inn\n",
    "\n",
    "\n",
    "word=\"xxxxxxxxxxxxxxxxxx\"\n",
    "while (len(word) < 1 or len(word)>6 or word.isalpha() == False):\n",
    "    word = input (\"Enter the word to search : \")\n",
    "    print (\"ERROR TRY AGIAN \\n\")\n",
    "\n",
    "\n",
    "\n",
    "###### PREDEFINED ###########\n",
    "# board = [ # The board\n",
    "#             [\"A\",\"B\",\"C\",\"E\"],\n",
    "#             [\"S\",\"F\",\"C\",\"S\"],\n",
    "#             [\"A\",\"D\",\"E\",\"E\"],\n",
    "#         ]\n",
    "# word = \"SAD\" # The word to search\n",
    "\n",
    "\n",
    "# # Board lens\n",
    "# m = (len(board))\n",
    "# n = len(board[0])\n",
    "\n",
    "print (\"Board of \\nRow = \",m,\"\\nColumn = \",n,\"\\n\")\n",
    "\n",
    "# Display Board\n",
    "for i in range(0,m):\n",
    "    for j in range(0,n):\n",
    "        print (board[i][j],\" \")\n",
    "    print (\"\\n\")\n",
    "\n",
    "\n",
    "\n",
    "## UNABLE TO IMPLEMENT SEARCH DUE TO TIME CONSTRAINT\n"
   ]
  },
  {
   "cell_type": "code",
   "execution_count": 31,
   "metadata": {},
   "outputs": [],
   "source": []
  }
 ],
 "metadata": {
  "kernelspec": {
   "display_name": "Python 3",
   "language": "python",
   "name": "python3"
  },
  "language_info": {
   "codemirror_mode": {
    "name": "ipython",
    "version": 3
   },
   "file_extension": ".py",
   "mimetype": "text/x-python",
   "name": "python",
   "nbconvert_exporter": "python",
   "pygments_lexer": "ipython3",
   "version": "3.11.1"
  },
  "orig_nbformat": 4,
  "vscode": {
   "interpreter": {
    "hash": "fba11c7007ab4a3b75f2082bcd2377fabc7abfbc3dd350a7e9d9ebd0398f2f05"
   }
  }
 },
 "nbformat": 4,
 "nbformat_minor": 2
}

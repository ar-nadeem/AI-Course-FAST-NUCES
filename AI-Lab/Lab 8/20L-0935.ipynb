{
 "cells": [
  {
   "cell_type": "code",
   "execution_count": 54,
   "metadata": {},
   "outputs": [],
   "source": [
    "import numpy as np\n",
    "import pandas as pd"
   ]
  },
  {
   "cell_type": "code",
   "execution_count": 55,
   "metadata": {},
   "outputs": [
    {
     "data": {
      "text/html": [
       "<div>\n",
       "<style scoped>\n",
       "    .dataframe tbody tr th:only-of-type {\n",
       "        vertical-align: middle;\n",
       "    }\n",
       "\n",
       "    .dataframe tbody tr th {\n",
       "        vertical-align: top;\n",
       "    }\n",
       "\n",
       "    .dataframe thead th {\n",
       "        text-align: right;\n",
       "    }\n",
       "</style>\n",
       "<table border=\"1\" class=\"dataframe\">\n",
       "  <thead>\n",
       "    <tr style=\"text-align: right;\">\n",
       "      <th></th>\n",
       "      <th>EmployeeNumber</th>\n",
       "      <th>Surname</th>\n",
       "      <th>GivenName</th>\n",
       "      <th>Gender</th>\n",
       "      <th>City</th>\n",
       "      <th>JobTitle</th>\n",
       "      <th>DepartmentName</th>\n",
       "      <th>StoreLocation</th>\n",
       "      <th>Division</th>\n",
       "      <th>Age</th>\n",
       "      <th>LengthService</th>\n",
       "      <th>AbsentHours</th>\n",
       "      <th>BusinessUnit</th>\n",
       "    </tr>\n",
       "  </thead>\n",
       "  <tbody>\n",
       "    <tr>\n",
       "      <th>495</th>\n",
       "      <td>496</td>\n",
       "      <td>Green</td>\n",
       "      <td>Anna</td>\n",
       "      <td>F</td>\n",
       "      <td>New Westminster</td>\n",
       "      <td>Cashier</td>\n",
       "      <td>Customer Service</td>\n",
       "      <td>New Westminster</td>\n",
       "      <td>Stores</td>\n",
       "      <td>41.020162</td>\n",
       "      <td>3.001312</td>\n",
       "      <td>67.650922</td>\n",
       "      <td>Stores</td>\n",
       "    </tr>\n",
       "    <tr>\n",
       "      <th>496</th>\n",
       "      <td>497</td>\n",
       "      <td>Nevitt</td>\n",
       "      <td>Phillip</td>\n",
       "      <td>M</td>\n",
       "      <td>D'arcy</td>\n",
       "      <td>Baker</td>\n",
       "      <td>Bakery</td>\n",
       "      <td>Squamish</td>\n",
       "      <td>Stores</td>\n",
       "      <td>53.650450</td>\n",
       "      <td>5.732535</td>\n",
       "      <td>129.752356</td>\n",
       "      <td>Stores</td>\n",
       "    </tr>\n",
       "    <tr>\n",
       "      <th>497</th>\n",
       "      <td>498</td>\n",
       "      <td>Troup</td>\n",
       "      <td>Martha</td>\n",
       "      <td>F</td>\n",
       "      <td>Burnaby</td>\n",
       "      <td>Baker</td>\n",
       "      <td>Bakery</td>\n",
       "      <td>Burnaby</td>\n",
       "      <td>Stores</td>\n",
       "      <td>39.860055</td>\n",
       "      <td>4.322794</td>\n",
       "      <td>76.999388</td>\n",
       "      <td>Stores</td>\n",
       "    </tr>\n",
       "    <tr>\n",
       "      <th>498</th>\n",
       "      <td>499</td>\n",
       "      <td>Ross</td>\n",
       "      <td>Eric</td>\n",
       "      <td>M</td>\n",
       "      <td>Surrey</td>\n",
       "      <td>Baker</td>\n",
       "      <td>Bakery</td>\n",
       "      <td>Surrey</td>\n",
       "      <td>Stores</td>\n",
       "      <td>35.489233</td>\n",
       "      <td>5.155878</td>\n",
       "      <td>48.838621</td>\n",
       "      <td>Stores</td>\n",
       "    </tr>\n",
       "    <tr>\n",
       "      <th>499</th>\n",
       "      <td>500</td>\n",
       "      <td>Farley</td>\n",
       "      <td>Jerry</td>\n",
       "      <td>M</td>\n",
       "      <td>Winfield</td>\n",
       "      <td>Baker</td>\n",
       "      <td>Bakery</td>\n",
       "      <td>Kelowna</td>\n",
       "      <td>Stores</td>\n",
       "      <td>NaN</td>\n",
       "      <td>6.426720</td>\n",
       "      <td>52.384019</td>\n",
       "      <td>Stores</td>\n",
       "    </tr>\n",
       "  </tbody>\n",
       "</table>\n",
       "</div>"
      ],
      "text/plain": [
       "     EmployeeNumber Surname GivenName Gender             City JobTitle   \n",
       "495             496   Green      Anna      F  New Westminster  Cashier  \\\n",
       "496             497  Nevitt   Phillip      M           D'arcy    Baker   \n",
       "497             498   Troup    Martha      F          Burnaby    Baker   \n",
       "498             499    Ross      Eric      M           Surrey    Baker   \n",
       "499             500  Farley     Jerry      M         Winfield    Baker   \n",
       "\n",
       "       DepartmentName    StoreLocation Division        Age  LengthService   \n",
       "495  Customer Service  New Westminster   Stores  41.020162       3.001312  \\\n",
       "496            Bakery         Squamish   Stores  53.650450       5.732535   \n",
       "497            Bakery          Burnaby   Stores  39.860055       4.322794   \n",
       "498            Bakery           Surrey   Stores  35.489233       5.155878   \n",
       "499            Bakery          Kelowna   Stores        NaN       6.426720   \n",
       "\n",
       "     AbsentHours BusinessUnit  \n",
       "495    67.650922       Stores  \n",
       "496   129.752356       Stores  \n",
       "497    76.999388       Stores  \n",
       "498    48.838621       Stores  \n",
       "499    52.384019       Stores  "
      ]
     },
     "execution_count": 55,
     "metadata": {},
     "output_type": "execute_result"
    }
   ],
   "source": [
    "csv = pd.read_csv('Employees_Absenteeism.csv')\n",
    "csv.tail() # Shows last 5 observations | Confirm the file\n"
   ]
  },
  {
   "cell_type": "code",
   "execution_count": 56,
   "metadata": {},
   "outputs": [
    {
     "name": "stdout",
     "output_type": "stream",
     "text": [
      "(500, 13)\n",
      "<class 'pandas.core.frame.DataFrame'>\n",
      "RangeIndex: 500 entries, 0 to 499\n",
      "Data columns (total 13 columns):\n",
      " #   Column          Non-Null Count  Dtype  \n",
      "---  ------          --------------  -----  \n",
      " 0   EmployeeNumber  500 non-null    int64  \n",
      " 1   Surname         500 non-null    object \n",
      " 2   GivenName       500 non-null    object \n",
      " 3   Gender          500 non-null    object \n",
      " 4   City            500 non-null    object \n",
      " 5   JobTitle        499 non-null    object \n",
      " 6   DepartmentName  500 non-null    object \n",
      " 7   StoreLocation   500 non-null    object \n",
      " 8   Division        499 non-null    object \n",
      " 9   Age             495 non-null    float64\n",
      " 10  LengthService   500 non-null    float64\n",
      " 11  AbsentHours     496 non-null    float64\n",
      " 12  BusinessUnit    500 non-null    object \n",
      "dtypes: float64(3), int64(1), object(9)\n",
      "memory usage: 50.9+ KB\n"
     ]
    }
   ],
   "source": [
    "# Shows number of rows and columns\n",
    "print(csv.shape)\n",
    "# Shows info about datatypes null/missing values\n",
    "csv.info()"
   ]
  },
  {
   "cell_type": "code",
   "execution_count": 57,
   "metadata": {},
   "outputs": [
    {
     "data": {
      "text/html": [
       "<div>\n",
       "<style scoped>\n",
       "    .dataframe tbody tr th:only-of-type {\n",
       "        vertical-align: middle;\n",
       "    }\n",
       "\n",
       "    .dataframe tbody tr th {\n",
       "        vertical-align: top;\n",
       "    }\n",
       "\n",
       "    .dataframe thead th {\n",
       "        text-align: right;\n",
       "    }\n",
       "</style>\n",
       "<table border=\"1\" class=\"dataframe\">\n",
       "  <thead>\n",
       "    <tr style=\"text-align: right;\">\n",
       "      <th></th>\n",
       "      <th>EmployeeNumber</th>\n",
       "      <th>Age</th>\n",
       "      <th>LengthService</th>\n",
       "      <th>AbsentHours</th>\n",
       "    </tr>\n",
       "  </thead>\n",
       "  <tbody>\n",
       "    <tr>\n",
       "      <th>count</th>\n",
       "      <td>500.000000</td>\n",
       "      <td>495.000000</td>\n",
       "      <td>500.000000</td>\n",
       "      <td>496.000000</td>\n",
       "    </tr>\n",
       "    <tr>\n",
       "      <th>mean</th>\n",
       "      <td>250.500000</td>\n",
       "      <td>43.477249</td>\n",
       "      <td>47.720799</td>\n",
       "      <td>60.186412</td>\n",
       "    </tr>\n",
       "    <tr>\n",
       "      <th>std</th>\n",
       "      <td>144.481833</td>\n",
       "      <td>9.856304</td>\n",
       "      <td>685.306945</td>\n",
       "      <td>48.613408</td>\n",
       "    </tr>\n",
       "    <tr>\n",
       "      <th>min</th>\n",
       "      <td>1.000000</td>\n",
       "      <td>11.778315</td>\n",
       "      <td>0.385746</td>\n",
       "      <td>0.000000</td>\n",
       "    </tr>\n",
       "    <tr>\n",
       "      <th>25%</th>\n",
       "      <td>125.750000</td>\n",
       "      <td>37.337930</td>\n",
       "      <td>3.731320</td>\n",
       "      <td>20.422634</td>\n",
       "    </tr>\n",
       "    <tr>\n",
       "      <th>50%</th>\n",
       "      <td>250.500000</td>\n",
       "      <td>43.740060</td>\n",
       "      <td>4.939143</td>\n",
       "      <td>55.910068</td>\n",
       "    </tr>\n",
       "    <tr>\n",
       "      <th>75%</th>\n",
       "      <td>375.250000</td>\n",
       "      <td>50.028981</td>\n",
       "      <td>6.268695</td>\n",
       "      <td>94.278764</td>\n",
       "    </tr>\n",
       "    <tr>\n",
       "      <th>max</th>\n",
       "      <td>500.000000</td>\n",
       "      <td>77.000000</td>\n",
       "      <td>13654.848320</td>\n",
       "      <td>223.778841</td>\n",
       "    </tr>\n",
       "  </tbody>\n",
       "</table>\n",
       "</div>"
      ],
      "text/plain": [
       "       EmployeeNumber         Age  LengthService  AbsentHours\n",
       "count      500.000000  495.000000     500.000000   496.000000\n",
       "mean       250.500000   43.477249      47.720799    60.186412\n",
       "std        144.481833    9.856304     685.306945    48.613408\n",
       "min          1.000000   11.778315       0.385746     0.000000\n",
       "25%        125.750000   37.337930       3.731320    20.422634\n",
       "50%        250.500000   43.740060       4.939143    55.910068\n",
       "75%        375.250000   50.028981       6.268695    94.278764\n",
       "max        500.000000   77.000000   13654.848320   223.778841"
      ]
     },
     "execution_count": 57,
     "metadata": {},
     "output_type": "execute_result"
    }
   ],
   "source": [
    "# Shows information about mean/count/std for given CSV file\n",
    "csv.describe()"
   ]
  },
  {
   "cell_type": "code",
   "execution_count": 58,
   "metadata": {},
   "outputs": [
    {
     "data": {
      "text/plain": [
       "array([32.02881569, 40.32090167, 48.82204661, 44.59935722, 35.69787561,\n",
       "       48.44031059, 50.75273   , 36.2160312 , 58.42738025, 39.85398   ,\n",
       "       46.54758052,         nan, 37.72801116, 30.78519091, 49.92338   ,\n",
       "       42.79789   , 48.6213    , 41.85581217, 51.00873723, 36.91041   ,\n",
       "       57.90324297, 24.47030259, 49.51672   , 60.5955091 , 35.80466401,\n",
       "       35.87338778, 41.93560641, 35.49790596, 40.02887   , 49.75658466,\n",
       "       38.11173232, 42.8715    , 49.94274462, 77.        , 23.74733283,\n",
       "       36.196064  , 51.56495808, 40.41201341, 52.44651862, 20.02556154,\n",
       "       44.60660014, 67.08801208, 41.25328235, 62.05182058, 28.07544199,\n",
       "       49.90577748, 50.07982   , 33.80945018, 51.60595642, 38.678832  ,\n",
       "       30.29765034, 43.68608721, 50.04741662, 34.68894529, 29.32983419,\n",
       "       50.01054543, 24.50853   , 42.62840469, 54.04930086, 43.91047001,\n",
       "       42.59140213, 55.76305   , 31.16665889, 43.26243975, 35.61924833,\n",
       "       39.26200269, 22.5364126 , 39.73937   , 46.94959435, 44.10973   ,\n",
       "       52.78875734, 35.63044266, 42.4342557 , 40.96753752, 46.77086356,\n",
       "       45.3008103 , 38.29655279, 35.4939    , 41.66134173, 43.5118766 ,\n",
       "       54.00481868, 46.22423463, 47.65733071, 51.99137493, 33.3683369 ,\n",
       "       47.6040848 , 34.6622    , 37.24006   , 45.47882196, 26.91367155,\n",
       "       37.74242382, 40.49192   , 48.62992513, 52.18642804, 37.91257982,\n",
       "       29.40947244, 51.17022316, 39.46457145, 26.67920383, 46.54737692,\n",
       "       39.23785234, 49.02908732, 43.74006   , 55.82635616, 44.00105092,\n",
       "       29.6692902 , 46.08440537, 27.86599272, 37.38317605, 50.43589901,\n",
       "       46.58616386, 50.28113997, 39.04622933, 37.49357924, 47.5184211 ,\n",
       "       50.24461391, 40.32982676, 36.92447866, 33.17869   , 32.75941298,\n",
       "       58.57572963, 23.94839693, 43.20353674, 52.64638663, 45.82458879,\n",
       "       35.53798668, 37.84977345, 43.2858    , 24.36946429, 45.92597301,\n",
       "       32.63626674, 39.38889368, 35.69832217, 49.71959048, 54.67226   ,\n",
       "       44.00556211, 36.480086  , 43.1563698 , 56.55995386, 43.12316447,\n",
       "       50.35361623, 49.47613903, 61.44050167, 47.87764919, 37.85526055,\n",
       "       57.89963249, 37.97420752, 49.07042916, 55.93339775, 27.38177556,\n",
       "       51.85696413, 61.3978081 , 66.06890246, 40.45052007, 57.35063799,\n",
       "       31.38918207, 35.80744   , 52.1325405 , 30.55156977, 54.55066069,\n",
       "       49.85965201, 30.04004847, 42.51405735, 49.27493559, 38.15800998,\n",
       "       45.5594    , 44.0545011 , 43.53401993, 42.63644281, 44.24521906,\n",
       "       45.94124227, 37.99890445, 33.403431  , 40.34235317, 37.80852455,\n",
       "       42.31715261, 45.01263   , 34.28047515, 49.14973   , 35.36492589,\n",
       "       53.64586019, 43.934345  , 19.19153395, 46.68367521, 44.60240143,\n",
       "       48.76869491, 50.76459344, 59.01548877, 35.98656738, 51.39517039,\n",
       "       57.43314763, 52.65101839, 52.1874037 , 51.77301121, 35.11682533,\n",
       "       52.99893588, 43.73002137, 40.93856989, 18.95983224, 57.87456   ,\n",
       "       53.312967  , 32.50307819, 36.38184177, 44.84727769, 12.6843222 ,\n",
       "       54.43216037, 60.37304921, 37.098383  , 44.93259   , 43.91164167,\n",
       "       45.45783561, 37.49657444, 49.67844   , 42.78966516, 34.80801888,\n",
       "       44.71639495, 39.93536429, 47.50043293, 44.185803  , 41.60450461,\n",
       "       44.22969208, 37.2991166 , 42.46407075, 39.31457   , 43.35590303,\n",
       "       48.48461962, 45.28880825, 34.54452812, 51.7865376 , 43.46696293,\n",
       "       37.71197934, 51.03145944, 54.49284808, 28.9172471 , 55.70889907,\n",
       "       43.19064154, 38.10720123, 36.48949145, 54.75064529, 44.77484922,\n",
       "       56.11144912, 34.11491876, 35.97228115, 31.47856723, 35.7258357 ,\n",
       "       44.57034084, 38.19626612, 38.31640412, 54.60035641, 52.62338815,\n",
       "       32.62756763, 29.37409177, 36.14779144, 46.19207185, 32.16838201,\n",
       "       39.94819217, 44.77063917, 40.23564643, 47.7864692 , 21.96085504,\n",
       "       49.23854802, 38.48180344, 37.7312481 , 57.08813022, 34.28082043,\n",
       "       29.30370209, 53.97279984, 55.75102139, 49.4851649 , 45.95132139,\n",
       "       36.41103286, 40.21737247, 43.05432623, 38.38906678, 45.08977998,\n",
       "       58.95193483, 29.6349007 , 64.1862768 , 37.25898016, 48.19952531,\n",
       "       11.77831479, 31.12161244, 48.20856562, 46.02262995, 35.54491002,\n",
       "       53.03555014, 47.74269834, 28.26400962, 47.06341877, 41.25308043,\n",
       "       43.17225733, 49.81724   , 38.65612904, 55.95054231, 30.94561689,\n",
       "       46.11313148, 52.68017   , 55.76493   , 45.91600372, 47.0598613 ,\n",
       "       46.10034641, 55.01031   , 38.84841513, 63.64067214, 46.40050071,\n",
       "       53.4876    , 45.8087373 , 38.19359343, 61.03372746, 49.65137   ,\n",
       "       39.23264   , 27.19733271, 49.737079  , 54.78184   , 49.35642336,\n",
       "       37.64279675, 37.92292401, 13.91701673, 46.47444666, 42.26699217,\n",
       "       49.70256092, 41.20807653, 53.77834729, 51.55788049, 49.3310176 ,\n",
       "       40.68595999, 52.38056007, 34.47078152, 48.14741118, 42.04539396,\n",
       "       48.32233424, 46.85967012, 65.03202077, 40.43092925, 44.70052933,\n",
       "       48.73561807, 24.77526856, 28.82467817, 40.099508  , 54.422944  ,\n",
       "       57.83862   , 46.26318447, 61.735239  , 41.3446638 , 47.77542634,\n",
       "       54.04718271, 46.34636295, 50.94350018, 49.77500929, 62.96501   ,\n",
       "       45.6015481 , 47.26951676, 32.81371965, 54.64327627, 34.64718451,\n",
       "       37.87297462, 47.11875464, 19.51295987, 38.66283732, 43.14466   ,\n",
       "       48.73314194, 43.28842535, 43.90486891, 31.31040261, 45.5682308 ,\n",
       "       58.13304183, 54.779859  , 57.87101095, 48.69864812, 38.89574259,\n",
       "       47.6683812 , 26.76805037, 23.17755823, 47.29635022, 38.6933991 ,\n",
       "       35.79056103, 42.94779654, 41.27476629, 53.72168   , 63.6606    ,\n",
       "       45.50482408, 42.48329056, 24.64311582, 59.41045632, 16.50975473,\n",
       "       53.68190138, 50.29067228, 47.31162488, 28.45488643, 41.00684   ,\n",
       "       54.17344462, 38.68350844, 37.39941933, 56.57166   , 24.03801   ,\n",
       "       57.48245355, 39.65132981, 37.58016678, 45.70187   , 30.23772064,\n",
       "       47.44402299, 37.37674244, 24.53199841, 39.41713079, 48.70922246,\n",
       "       46.4872512 , 41.41336734, 42.25238159, 33.55420357, 34.64472079,\n",
       "       48.28562518, 53.8894244 , 42.20679651, 40.72063863, 44.13614639,\n",
       "       55.6059169 , 46.55622619, 35.13456681, 58.07045982, 56.98952573,\n",
       "       55.82504   , 28.43684102, 67.        , 43.16190211, 39.44189274,\n",
       "       32.29718696, 44.58254104, 54.93292919, 29.06977848, 52.87064743,\n",
       "       38.73055301, 60.92573728, 45.2344092 , 23.08029613, 39.147491  ,\n",
       "       52.92548   , 35.5451812 , 46.21123869, 62.39382381, 45.18557692,\n",
       "       34.29581552, 38.73361127, 58.12902481, 42.41074499, 56.46422   ,\n",
       "       33.06526605, 32.583867  , 52.18534665, 39.19805   , 51.07653909,\n",
       "       29.55119989, 42.02258   , 62.64433624, 64.23124052, 37.75449   ,\n",
       "       36.63402217, 52.71591   , 38.23339653, 31.02611034, 44.64552638,\n",
       "       28.22209548, 24.64970229, 40.59613134, 31.30475054, 50.31913455,\n",
       "       38.31455482, 28.25597776, 35.19518848, 35.45307385, 27.61409825,\n",
       "       35.65373786, 49.56480991, 49.898107  , 41.02016162, 53.65045001,\n",
       "       39.86005478, 35.48923302])"
      ]
     },
     "execution_count": 58,
     "metadata": {},
     "output_type": "execute_result"
    }
   ],
   "source": [
    "csv.Age.unique() # Shows all unique ages"
   ]
  },
  {
   "cell_type": "code",
   "execution_count": 87,
   "metadata": {},
   "outputs": [
    {
     "data": {
      "text/plain": [
       "LengthService\n",
       "1.000000     4\n",
       "19.460694    2\n",
       "7.175440     2\n",
       "3.402557     1\n",
       "4.326906     1\n",
       "            ..\n",
       "3.839194     1\n",
       "23.746003    1\n",
       "4.235105     1\n",
       "2.771944     1\n",
       "6.426720     1\n",
       "Name: count, Length: 495, dtype: int64"
      ]
     },
     "execution_count": 87,
     "metadata": {},
     "output_type": "execute_result"
    }
   ],
   "source": [
    "csv.LengthService.value_counts() # Shows value counts for LenghtServvice"
   ]
  },
  {
   "cell_type": "code",
   "execution_count": 65,
   "metadata": {},
   "outputs": [
    {
     "name": "stdout",
     "output_type": "stream",
     "text": [
      "                EmployeeNumber       Age  LengthService  AbsentHours\n",
      "EmployeeNumber        1.000000  0.042593      -0.075515     0.049136\n",
      "Age                   0.042593  1.000000      -0.024893     0.703403\n",
      "LengthService        -0.075515 -0.024893       1.000000    -0.036831\n",
      "AbsentHours           0.049136  0.703403      -0.036831     1.000000\n"
     ]
    }
   ],
   "source": [
    "# Show correleation between variables\n",
    "cor = csv.corr(numeric_only=True)\n",
    "print(cor)"
   ]
  },
  {
   "cell_type": "code",
   "execution_count": 78,
   "metadata": {},
   "outputs": [
    {
     "data": {
      "image/png": "[encoded data removed]",
      "text/plain": [
       "<Figure size 640x480 with 2 Axes>"
      ]
     },
     "metadata": {},
     "output_type": "display_data"
    }
   ],
   "source": [
    "# Heatmap of corrleation of variables\n",
    "import seaborn as sb\n",
    "sb.color_palette(\"bright\")\n",
    "heatmapPlot = sb.heatmap(cor,cmap='PiYG',annot=True)\n"
   ]
  },
  {
   "cell_type": "code",
   "execution_count": 89,
   "metadata": {},
   "outputs": [
    {
     "data": {
      "text/plain": [
       "<seaborn.axisgrid.FacetGrid at 0x11d063d00>"
      ]
     },
     "execution_count": 89,
     "metadata": {},
     "output_type": "execute_result"
    },
    {
     "data": {
      "image/png": "[encoded data removed]",
      "text/plain": [
       "<Figure size 500x500 with 1 Axes>"
      ]
     },
     "metadata": {},
     "output_type": "display_data"
    }
   ],
   "source": [
    "import matplotlib.pyplot as plt\n",
    "\n",
    "sb.lmplot(csv,y=\"LengthService\",x=\"AbsentHours\") # Scatter plot of LenghtSerive with respect to Absent Hoours"
   ]
  },
  {
   "cell_type": "code",
   "execution_count": null,
   "metadata": {},
   "outputs": [],
   "source": []
  }
 ],
 "metadata": {
  "kernelspec": {
   "display_name": "Python 3",
   "language": "python",
   "name": "python3"
  },
  "language_info": {
   "codemirror_mode": {
    "name": "ipython",
    "version": 3
   },
   "file_extension": ".py",
   "mimetype": "text/x-python",
   "name": "python",
   "nbconvert_exporter": "python",
   "pygments_lexer": "ipython3",
   "version": "3.8.9"
  },
  "orig_nbformat": 4,
  "vscode": {
   "interpreter": {
    "hash": "31f2aee4e71d21fbe5cf8b01ff0e069b9275f58929596ceb00d14d90e3e16cd6"
   }
  }
 },
 "nbformat": 4,
 "nbformat_minor": 2
}

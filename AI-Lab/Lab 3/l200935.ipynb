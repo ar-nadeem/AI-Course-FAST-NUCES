{
 "cells": [
  {
   "cell_type": "code",
   "execution_count": 11,
   "metadata": {},
   "outputs": [
    {
     "name": "stdout",
     "output_type": "stream",
     "text": [
      "Your list =  [1, 2, 3]\n",
      "Squared list =  [1, 4, 9]\n",
      "Cubed list =  [1, 8, 27]\n"
     ]
    }
   ],
   "source": [
    "# Question 1 | Use Lamba functions to calculate square and cube of a list of integers\n",
    "\n",
    "# Take input of list of numbers\n",
    "    # Takes input then strips and splits it, loops for every item in the list generated and converts it into integer\n",
    "    # Looping is required to make it into a 1D array\n",
    "    # The strip function removes leading and preceding spaces, that could be pressed accidently by user\n",
    "    # Split function converted the given input into a list sepereated by spaces\n",
    "myList = [int(items) for items in input(\"Enter integers seprated by space, press enter to save : \").strip().split()]\n",
    "print(\"Your list = \",myList)\n",
    "\n",
    "\n",
    "# Creating lambda functions for square and cube\n",
    "square = lambda x:x**2\n",
    "cube = lambda x:x**3\n",
    "\n",
    "\n",
    "# Using Lambda functions to do our task\n",
    "    # Map takes two arguments 1. A function 2. A list\n",
    "    # The function will be the lamba function we created above\n",
    "\n",
    "    # Square list using lambda function\n",
    "mySquaredList = list(map(square,myList))\n",
    "print(\"Squared list = \",mySquaredList)\n",
    "\n",
    "    # Cubed list using lambda function\n",
    "myCubedList = list(map(cube,myList))\n",
    "print(\"Cubed list = \",myCubedList)"
   ]
  },
  {
   "cell_type": "code",
   "execution_count": 23,
   "metadata": {},
   "outputs": [
    {
     "name": "stdout",
     "output_type": "stream",
     "text": [
      "Created a Stack of  <class 'int'>\n",
      "[0, 1, 2, 3]\n",
      "Removed ->  0\n",
      "[1, 2, 3]\n",
      "Removed ->  1\n",
      "[2, 3]\n",
      "Created a Stack of  <class 'str'>\n",
      "['Apple', 'Banana', 'Oranges', 'Watermelon']\n",
      "Removed ->  Apple\n",
      "['Banana', 'Oranges', 'Watermelon']\n",
      "Removed ->  Banana\n",
      "['Oranges', 'Watermelon']\n"
     ]
    }
   ],
   "source": [
    "# Question 2 | Create a stack that works in a Fifo order, in other words create a queue :P\n",
    "\n",
    "# Create a Class named Stack\n",
    "class Stack:\n",
    "    # Data members\n",
    "    myList=[] # 1 dimensional list\n",
    "    myType = None\n",
    "    tt = None\n",
    "    # Init class (Defualt constructor)\n",
    "    def __init__(self,t):\n",
    "        self.tt = t\n",
    "        self.myList=[]\n",
    "        self.myType = lambda x:t(x) # Set the type of stack e.g int, str -- etc etc\n",
    "    def push(self,x): # Push function, appends to the end of list\n",
    "        self.myList.append(self.myType(x))\n",
    "    def pop(self): # Pop function, uses built-in function to pop first element of list since the stack is FIFO\n",
    "        return self.myList.pop(0)\n",
    "    def display(self):\n",
    "        print(self.myList)\n",
    "    def whatType(self):\n",
    "        return self.tt\n",
    "\n",
    "myIntStack = Stack(int) # Create a int stack\n",
    "print(\"Created a Stack of \",myIntStack.whatType())\n",
    "\n",
    "\n",
    "myIntStack.push(0)\n",
    "myIntStack.push(1)\n",
    "myIntStack.push(2)\n",
    "myIntStack.push(3)\n",
    "\n",
    "myIntStack.display()\n",
    "\n",
    "print (\"Removed -> \",myIntStack.pop())\n",
    "\n",
    "myIntStack.display()\n",
    "\n",
    "print (\"Removed -> \",myIntStack.pop())\n",
    "myIntStack.display()\n",
    "\n",
    "################################################\n",
    "\n",
    "myStrStack = Stack(str) # Create a string stack\n",
    "print(\"Created a Stack of \",myStrStack.whatType())\n",
    "\n",
    "myStrStack.push(\"Apple\")\n",
    "myStrStack.push(\"Banana\")\n",
    "myStrStack.push(\"Oranges\")\n",
    "myStrStack.push(\"Watermelon\")\n",
    "\n",
    "myStrStack.display()\n",
    "\n",
    "print (\"Removed -> \",myStrStack.pop())\n",
    "myStrStack.display()\n",
    "\n",
    "print (\"Removed -> \",myStrStack.pop())\n",
    "myStrStack.display()\n"
   ]
  },
  {
   "cell_type": "code",
   "execution_count": 24,
   "metadata": {},
   "outputs": [
    {
     "name": "stdout",
     "output_type": "stream",
     "text": [
      "Area of rectangle is  10\n"
     ]
    }
   ],
   "source": [
    "# Question 3 | Create a class for rectangle that calculates Area and Width\n",
    "\n",
    "# Class\n",
    "class Rectangle:\n",
    "    def __init__(self,w,l):\n",
    "        self.width = w\n",
    "        self.lenght = l\n",
    "    def __calcArea(self): # Private Function\n",
    "        return self.width * self.lenght\n",
    "    def displayArea(self):\n",
    "        return print(\"Area of rectangle is \", self.__calcArea())\n",
    "    \n",
    "myRectangle = Rectangle(5,2)\n",
    "myRectangle.displayArea()"
   ]
  }
 ],
 "metadata": {
  "kernelspec": {
   "display_name": "Python 3",
   "language": "python",
   "name": "python3"
  },
  "language_info": {
   "codemirror_mode": {
    "name": "ipython",
    "version": 3
   },
   "file_extension": ".py",
   "mimetype": "text/x-python",
   "name": "python",
   "nbconvert_exporter": "python",
   "pygments_lexer": "ipython3",
   "version": "3.11.1"
  },
  "orig_nbformat": 4,
  "vscode": {
   "interpreter": {
    "hash": "fba11c7007ab4a3b75f2082bcd2377fabc7abfbc3dd350a7e9d9ebd0398f2f05"
   }
  }
 },
 "nbformat": 4,
 "nbformat_minor": 2
}

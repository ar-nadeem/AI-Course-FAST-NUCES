{
  "nbformat": 4,
  "nbformat_minor": 0,
  "metadata": {
    "colab": {
      "provenance": []
    },
    "kernelspec": {
      "name": "python3",
      "display_name": "Python 3"
    },
    "language_info": {
      "name": "python"
    }
  },
  "cells": [
    {
      "cell_type": "code",
      "execution_count": 44,
      "metadata": {
        "colab": {
          "base_uri": "https://localhost:8080/"
        },
        "id": "lsFM6o6laLqF",
        "outputId": "ddbb5373-5f90-40fb-a421-79dfcb880add"
      },
      "outputs": [
        {
          "output_type": "stream",
          "name": "stdout",
          "text": [
            "How many chicken : 5\n",
            "Number of chicken  5\n"
          ]
        }
      ],
      "source": [
        "# Question 1\n",
        "\n",
        "\n",
        "def chicken(n):\n",
        "  if (n < 0):\n",
        "    print (\"Number of chicken\",\" CANT BE NEGATIVE\")\n",
        "  \n",
        "  elif (n >= 10):\n",
        "    print (\"Number of chicken \",\"too many\")\n",
        "  else:\n",
        "      print (\"Number of chicken \",num)\n",
        "  \n",
        "\n",
        "\n",
        "\n",
        "num = int(input(\"How many chicken : \"))\n",
        "chicken(num)"
      ]
    },
    {
      "cell_type": "code",
      "source": [
        "# Question 2\n",
        "a = input(\"Enter string a: \")\n",
        "b = input(\"Enter string b: \")\n",
        "final_s = b[0:2]+a[2:]+\" \"+ a[0:2]+b[2:]\n",
        "\n",
        "print (final_s)\n"
      ],
      "metadata": {
        "colab": {
          "base_uri": "https://localhost:8080/"
        },
        "id": "hecmLdFianLZ",
        "outputId": "16913aaf-fbf5-4c92-889b-f36f2088b784"
      },
      "execution_count": 6,
      "outputs": [
        {
          "output_type": "stream",
          "name": "stdout",
          "text": [
            "Enter string a: dog\n",
            "Enter string b: dinner\n",
            "dig donner\n"
          ]
        }
      ]
    },
    {
      "cell_type": "code",
      "source": [
        "def last_letter(w):\n",
        "    return w[::-1] # reverse of string\n",
        "\n",
        "\n",
        "# str_arr=[]\n",
        "# for i in range(5):\n",
        "#   my_str = str(input('Enter words: '))\n",
        "#   str_arr.append(my_str)\n",
        "\n",
        "str_arr=[\"home\", \"classroom\" , \"car\" ,\"window\" , \"house\" , \"clam\" ]\n",
        "\n",
        "\n",
        "s_sorted = sorted(str_arr,key=last_letter)\n",
        "print (s_sorted)\n",
        "\n",
        "\n",
        "\n",
        "t = 0\n",
        "for i in range(len(s_sorted)-1):\n",
        "  if (s_sorted[i][0] == s_sorted[i+1][0]):\n",
        "    if (((s_sorted[i])[::-1])[0] == ((s_sorted[i+1])[::-1])[0]): # reverse string, then access first element\n",
        "      t = t+1\n",
        "print (t)"
      ],
      "metadata": {
        "colab": {
          "base_uri": "https://localhost:8080/"
        },
        "id": "Oqfv1pVabDkS",
        "outputId": "b71b66d2-f7b3-4b88-af1f-ecf9f34f5657"
      },
      "execution_count": 45,
      "outputs": [
        {
          "output_type": "stream",
          "name": "stdout",
          "text": [
            "['home', 'house', 'classroom', 'car', 'window']\n",
            "1\n"
          ]
        }
      ]
    },
    {
      "cell_type": "code",
      "source": [
        "def last_letter(w):\n",
        "    return w[::-1] # reverse then access first, means last letter\n",
        "\n",
        "# n_arr=[]\n",
        "# for i in range(5):\n",
        "#   my_tuple = tuple(input('Enter space-separated words: ').split())\n",
        "#   n_arr.append(my_tuple)\n",
        "n_arr = [(1, 7), (1, 3), (3, 4, 5), (2, 2)]\n",
        "\n",
        "n_sorted = sorted(n_arr,key=last_letter)\n",
        "print (n_sorted)"
      ],
      "metadata": {
        "colab": {
          "base_uri": "https://localhost:8080/"
        },
        "id": "cAVguGe7diai",
        "outputId": "c439eda2-15e2-4770-ed06-a57c2cddee2b"
      },
      "execution_count": 46,
      "outputs": [
        {
          "output_type": "stream",
          "name": "stdout",
          "text": [
            "[(2, 2), (1, 3), (3, 4, 5), (1, 7)]\n"
          ]
        }
      ]
    }
  ]
}
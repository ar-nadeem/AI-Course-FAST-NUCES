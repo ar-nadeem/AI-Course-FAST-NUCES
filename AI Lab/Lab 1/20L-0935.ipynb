{
 "cells": [
  {
   "cell_type": "code",
   "execution_count": 20,
   "metadata": {},
   "outputs": [
    {
     "name": "stdout",
     "output_type": "stream",
     "text": [
      "tseT,.''\"\n"
     ]
    }
   ],
   "source": [
    "# Question 1 Reverse String\n",
    "#Hannah\n",
    "def revstr(s):\n",
    "    return s[::-1] # Slicing with step -1\n",
    "\n",
    "og_string = str(input(\"Please enter a string : \"))\n",
    "print(revstr(og_string))\n",
    "\n",
    "\n",
    "\n",
    "\n"
   ]
  },
  {
   "cell_type": "code",
   "execution_count": 26,
   "metadata": {},
   "outputs": [
    {
     "name": "stdout",
     "output_type": "stream",
     "text": [
      "Comparing amanaplanacanalpanama with amanaplanacanalpanama\n",
      "The string is a valid palindrome !\n"
     ]
    }
   ],
   "source": [
    "# Question 2 Valid Palindrome\n",
    "# A man, a plan, a canal: Panama\n",
    "\n",
    "og_string = str(input(\"Please enter a string : \"))\n",
    "\n",
    "f_og_string=''\n",
    "\n",
    "for i in range (len(og_string)):\n",
    "    if og_string[i] != \" \":\n",
    "        if og_string[i].isalpha() == True:\n",
    "            f_og_string=f_og_string+og_string[i]\n",
    "        if og_string[i].isnumeric() == True:\n",
    "            f_og_string=f_og_string+og_string[i]\n",
    "\n",
    "f_og_string = f_og_string.lower()\n",
    "\n",
    "print (\"Comparing {} with {}\".format(f_og_string,revstr(f_og_string)))\n",
    "\n",
    "if (revstr(f_og_string) == f_og_string):\n",
    "    print(\"The string is a valid palindrome !\")\n",
    "else:\n",
    "    print(\"NOT a valid palidrome\")"
   ]
  },
  {
   "cell_type": "code",
   "execution_count": 31,
   "metadata": {},
   "outputs": [
    {
     "name": "stdout",
     "output_type": "stream",
     "text": [
      "Square root of  4  is  2\n"
     ]
    }
   ],
   "source": [
    "# Question 3 Square Root\n",
    "n = int(input(\"Please enter a number\"))\n",
    "print (\"Square root of \",n,\" is \",int(n**0.5))\n"
   ]
  }
 ],
 "metadata": {
  "kernelspec": {
   "display_name": "Python 3",
   "language": "python",
   "name": "python3"
  },
  "language_info": {
   "codemirror_mode": {
    "name": "ipython",
    "version": 3
   },
   "file_extension": ".py",
   "mimetype": "text/x-python",
   "name": "python",
   "nbconvert_exporter": "python",
   "pygments_lexer": "ipython3",
   "version": "3.11.1"
  },
  "orig_nbformat": 4,
  "vscode": {
   "interpreter": {
    "hash": "fba11c7007ab4a3b75f2082bcd2377fabc7abfbc3dd350a7e9d9ebd0398f2f05"
   }
  }
 },
 "nbformat": 4,
 "nbformat_minor": 2
}

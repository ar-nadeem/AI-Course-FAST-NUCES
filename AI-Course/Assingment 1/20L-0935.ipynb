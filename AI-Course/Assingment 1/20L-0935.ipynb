{
 "cells": [
  {
   "cell_type": "code",
   "execution_count": null,
   "metadata": {},
   "outputs": [],
   "source": [
    "print (\"Hello World!\")"
   ]
  }
 ],
 "metadata": {
  "kernelspec": {
   "display_name": "Python 3",
   "language": "python",
   "name": "python3"
  },
  "language_info": {
   "name": "python",
   "version": "3.11.1"
  },
  "orig_nbformat": 4,
  "vscode": {
   "interpreter": {
    "hash": "fba11c7007ab4a3b75f2082bcd2377fabc7abfbc3dd350a7e9d9ebd0398f2f05"
   }
  }
 },
 "nbformat": 4,
 "nbformat_minor": 2
}

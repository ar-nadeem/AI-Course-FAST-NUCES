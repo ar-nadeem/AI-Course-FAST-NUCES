{
  "cells": [
    {
      "cell_type": "code",
      "execution_count": null,
      "id": "7e9b03c6",
      "metadata": {
        "id": "7e9b03c6"
      },
      "outputs": [],
      "source": [
        "#Min-Max Algorithm\n",
        "from math import inf as infinity\n",
        "from random import choice\n",
        "import platform\n",
        "import numpy as np\n",
        "from os import system"
      ]
    },
    {
      "cell_type": "code",
      "execution_count": null,
      "id": "28c379ab",
      "metadata": {
        "id": "28c379ab"
      },
      "outputs": [],
      "source": [
        "Human = -1\n",
        "Computer = +1\n",
        "draw = 0"
      ]
    },
    {
      "cell_type": "code",
      "execution_count": null,
      "id": "735a8f31",
      "metadata": {
        "id": "735a8f31",
        "outputId": "2b21f831-8dff-4dde-abb0-9a8b7a97591d"
      },
      "outputs": [
        {
          "data": {
            "text/plain": [
              "array([[0, 0, 0],\n",
              "       [0, 0, 0],\n",
              "       [0, 0, 0]])"
            ]
          },
          "execution_count": 8,
          "metadata": {},
          "output_type": "execute_result"
        }
      ],
      "source": [
        "#Initialize empty board\n",
        "board = np.zeros((3,3),dtype=np.int32)\n",
        "board"
      ]
    },
    {
      "cell_type": "code",
      "source": [
        "def evaluate(curr_state):\n",
        "    #write your code here to assign score if computer or human wins and 0 in case of draw; return score \n",
        "    \n",
        "\n",
        "\n",
        "def wins(state, player):\n",
        "    #return True or False by checking all possibilites of win for human or computer\n",
        "    \n",
        "\n",
        "\n",
        "def game_over(curr_state):\n",
        "    # return True or False if human or computer wins\n",
        "    \n",
        "    \n",
        "\n",
        "\n",
        "def empty_cells(curr_state):\n",
        "    # create a list of all empty cells[x,y] and return emptyCells list\n",
        "    \n",
        "\n",
        "\n",
        "def valid_move(x, y):\n",
        "    # check valid move if x,y is in emptyList return true else return false\n",
        "    \n",
        "    \n",
        "\n",
        "def set_move(x, y, player):\n",
        "    # check selected cell[x,y]; if it is valid move then place player move on the board\n",
        "    \n",
        "    \n",
        "def minimax(curr_state, depth, player):\n",
        "    #Implement min-max algorithm here with following inputs:\n",
        "    # Input:current-state of board, position of state where depth=[0-9], also player:human or computer\n",
        "    #Output: list =[best row,best column,best score]\n",
        "   \n",
        "    \n",
        "\n",
        "def clean():\n",
        "    os_name = platform.system().lower()\n",
        "    if 'windows' in os_name:\n",
        "        system('cls')\n",
        "    else:\n",
        "        system('clear')\n",
        "\n",
        "\n",
        "def printBoard(curr_state, comp_choice, human_choice):\n",
        "    #print board e.g.\n",
        "    # ---------------\n",
        "    # |   ||   ||   |\n",
        "    # ---------------\n",
        "    # |   ||   ||   |\n",
        "    # ---------------\n",
        "    # |   ||   ||   |\n",
        "    # ---------------\n",
        "\n",
        "    chars = {\n",
        "        -1: human_choice,\n",
        "        +1: comp_choice,\n",
        "        0: ' '\n",
        "    }\n",
        "    str_line = '---------------'\n",
        "\n",
        "    print('\\n' + str_line)\n",
        "    for row in curr_state:\n",
        "        for cell in row:\n",
        "            symbol = chars[cell]\n",
        "            print(f'| {symbol} |', end='')\n",
        "        print('\\n' + str_line)\n",
        "\n",
        "\n",
        "def computer_turn(comp_choice, human_choice):\n",
        "    # comp_choice: X or 0, human_choice: X or 0 for depth <9\n",
        "   \n",
        "    \n",
        "\n",
        "\n",
        "def human_turn(comp_choice, human_choice):\n",
        "    # comp_choice: X or 0, human_choice: X or 0 for depth <9\n",
        "    \n",
        "    "
      ],
      "metadata": {
        "id": "8f1kDjfg5Pyx"
      },
      "id": "8f1kDjfg5Pyx",
      "execution_count": null,
      "outputs": []
    },
    {
      "cell_type": "code",
      "execution_count": null,
      "id": "a62e3e77",
      "metadata": {
        "id": "a62e3e77"
      },
      "outputs": [],
      "source": [
        "\n",
        "def main():\n",
        "    \n",
        "    clean()\n",
        "    h_choice = ''  # X or O\n",
        "    c_choice = ''  # X or O\n",
        "    first = ''  # if human is the first\n",
        "\n",
        "    # Human chooses X or O to play\n",
        "    h_choice = input('Choose X or O\\nChosen: ').upper()\n",
        "        \n",
        "    # Setting computer's choice\n",
        "    if h_choice == 'X':\n",
        "        c_choice = 'O'\n",
        "    else:\n",
        "        c_choice = 'X'\n",
        "\n",
        "    # Ask human want to start first: Y or N\n",
        "    clean()\n",
        "    \n",
        "    first = input('First to start?[y/n]: ').upper()\n",
        "\n",
        "    #Start Working to call other functions here \n",
        "    \n",
        "    exit()\n",
        "\n",
        "\n"
      ]
    },
    {
      "cell_type": "code",
      "execution_count": null,
      "id": "412c4347",
      "metadata": {
        "id": "412c4347"
      },
      "outputs": [],
      "source": [
        "#Call main function here\n",
        "if __name__ == '__main__':\n",
        "    main()"
      ]
    },
    {
      "cell_type": "code",
      "execution_count": null,
      "id": "11bf1923",
      "metadata": {
        "id": "11bf1923"
      },
      "outputs": [],
      "source": []
    }
  ],
  "metadata": {
    "colab": {
      "provenance": []
    },
    "kernelspec": {
      "display_name": "Python 3",
      "language": "python",
      "name": "python3"
    },
    "language_info": {
      "codemirror_mode": {
        "name": "ipython",
        "version": 3
      },
      "file_extension": ".py",
      "mimetype": "text/x-python",
      "name": "python",
      "nbconvert_exporter": "python",
      "pygments_lexer": "ipython3",
      "version": "3.8.8"
    }
  },
  "nbformat": 4,
  "nbformat_minor": 5
}